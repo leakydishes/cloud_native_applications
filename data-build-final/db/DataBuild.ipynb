{
  "nbformat": 4,
  "nbformat_minor": 0,
  "metadata": {
    "colab": {
      "provenance": []
    },
    "kernelspec": {
      "name": "python3",
      "display_name": "Python 3"
    },
    "language_info": {
      "name": "python"
    }
  },
  "cells": [
    {
      "cell_type": "markdown",
      "source": [
        "### Melbourne Open Data\n",
        "<div class=\"Melbourne Open Data - Business Establishments\">\n",
        "  <i>Dataset:</i> Business establishments location and industry classification 374210 records\n",
        "  <br>\n",
        "  <a href=\"https://data.melbourne.vic.gov.au/explore/dataset/business-establishments-with-address-and-industry-classification/information/\" target=\"_blank\">Dataset Link</a>\n",
        "</div>\n",
        "\n",
        "##### Open Data is provided under a creative commons licence\n",
        "- Free to share, adapt data for any purpose as long as credit is given to Melbourne City Council"
      ],
      "metadata": {
        "id": "I2pH6gpD3ISH"
      }
    },
    {
      "cell_type": "code",
      "execution_count": null,
      "metadata": {
        "colab": {
          "base_uri": "https://localhost:8080/"
        },
        "id": "gcd1Vx3a3F1A",
        "outputId": "1b9a0613-3ecb-43aa-d39e-e86326b187a7"
      },
      "outputs": [
        {
          "output_type": "stream",
          "name": "stdout",
          "text": [
            "\u001b[2K     \u001b[90m━━━━━━━━━━━━━━━━━━━━━━━━━━━━━━━━━━━━━━━━\u001b[0m \u001b[32m58.1/58.1 kB\u001b[0m \u001b[31m2.1 MB/s\u001b[0m eta \u001b[36m0:00:00\u001b[0m\n",
            "\u001b[2K     \u001b[90m━━━━━━━━━━━━━━━━━━━━━━━━━━━━━━━━━━━━━━━━\u001b[0m \u001b[32m384.9/384.9 kB\u001b[0m \u001b[31m6.0 MB/s\u001b[0m eta \u001b[36m0:00:00\u001b[0m\n",
            "\u001b[?25h"
          ]
        }
      ],
      "source": [
        "#Libraries\n",
        "!pip -q install requests"
      ]
    },
    {
      "cell_type": "code",
      "source": [
        "from io import StringIO\n",
        "import requests\n",
        "\n",
        "from google.colab import drive\n",
        "drive.mount('/content/drive')"
      ],
      "metadata": {
        "colab": {
          "base_uri": "https://localhost:8080/"
        },
        "id": "n5m97Ejc34x_",
        "outputId": "c5b672d7-a1cc-4e93-84ec-691453e4679d"
      },
      "execution_count": null,
      "outputs": [
        {
          "output_type": "stream",
          "name": "stdout",
          "text": [
            "Mounted at /content/drive\n"
          ]
        }
      ]
    },
    {
      "cell_type": "code",
      "source": [
        "#load libraries\n",
        "import os\n",
        "import warnings\n",
        "warnings.filterwarnings('ignore')\n",
        "import requests\n",
        "from urllib.request import urlopen\n",
        "import json\n",
        "from tqdm import tqdm"
      ],
      "metadata": {
        "id": "_2QU1B0Y3VD1"
      },
      "execution_count": null,
      "outputs": []
    },
    {
      "cell_type": "code",
      "source": [
        "import warnings\n",
        "warnings.filterwarnings(\"ignore\")\n",
        "\n",
        "!pip install tqdm # Progress bar\n",
        "!pip install osmnx"
      ],
      "metadata": {
        "colab": {
          "base_uri": "https://localhost:8080/"
        },
        "id": "y-YTxMwk3VvA",
        "outputId": "6cc2512f-ef8c-4740-f508-cc193bd37e49"
      },
      "execution_count": null,
      "outputs": [
        {
          "output_type": "stream",
          "name": "stdout",
          "text": [
            "Requirement already satisfied: tqdm in /usr/local/lib/python3.10/dist-packages (4.66.4)\n",
            "Collecting osmnx\n",
            "  Downloading osmnx-1.9.3-py3-none-any.whl (107 kB)\n",
            "\u001b[2K     \u001b[90m━━━━━━━━━━━━━━━━━━━━━━━━━━━━━━━━━━━━━━━━\u001b[0m \u001b[32m107.2/107.2 kB\u001b[0m \u001b[31m2.3 MB/s\u001b[0m eta \u001b[36m0:00:00\u001b[0m\n",
            "\u001b[?25hRequirement already satisfied: geopandas>=0.12 in /usr/local/lib/python3.10/dist-packages (from osmnx) (0.13.2)\n",
            "Requirement already satisfied: networkx>=2.5 in /usr/local/lib/python3.10/dist-packages (from osmnx) (3.3)\n",
            "Requirement already satisfied: numpy>=1.20 in /usr/local/lib/python3.10/dist-packages (from osmnx) (1.25.2)\n",
            "Requirement already satisfied: pandas>=1.1 in /usr/local/lib/python3.10/dist-packages (from osmnx) (2.0.3)\n",
            "Requirement already satisfied: requests>=2.27 in /usr/local/lib/python3.10/dist-packages (from osmnx) (2.31.0)\n",
            "Requirement already satisfied: shapely>=2.0 in /usr/local/lib/python3.10/dist-packages (from osmnx) (2.0.4)\n",
            "Requirement already satisfied: fiona>=1.8.19 in /usr/local/lib/python3.10/dist-packages (from geopandas>=0.12->osmnx) (1.9.6)\n",
            "Requirement already satisfied: packaging in /usr/local/lib/python3.10/dist-packages (from geopandas>=0.12->osmnx) (24.0)\n",
            "Requirement already satisfied: pyproj>=3.0.1 in /usr/local/lib/python3.10/dist-packages (from geopandas>=0.12->osmnx) (3.6.1)\n",
            "Requirement already satisfied: python-dateutil>=2.8.2 in /usr/local/lib/python3.10/dist-packages (from pandas>=1.1->osmnx) (2.8.2)\n",
            "Requirement already satisfied: pytz>=2020.1 in /usr/local/lib/python3.10/dist-packages (from pandas>=1.1->osmnx) (2023.4)\n",
            "Requirement already satisfied: tzdata>=2022.1 in /usr/local/lib/python3.10/dist-packages (from pandas>=1.1->osmnx) (2024.1)\n",
            "Requirement already satisfied: charset-normalizer<4,>=2 in /usr/local/lib/python3.10/dist-packages (from requests>=2.27->osmnx) (3.3.2)\n",
            "Requirement already satisfied: idna<4,>=2.5 in /usr/local/lib/python3.10/dist-packages (from requests>=2.27->osmnx) (3.7)\n",
            "Requirement already satisfied: urllib3<3,>=1.21.1 in /usr/local/lib/python3.10/dist-packages (from requests>=2.27->osmnx) (2.0.7)\n",
            "Requirement already satisfied: certifi>=2017.4.17 in /usr/local/lib/python3.10/dist-packages (from requests>=2.27->osmnx) (2024.2.2)\n",
            "Requirement already satisfied: attrs>=19.2.0 in /usr/local/lib/python3.10/dist-packages (from fiona>=1.8.19->geopandas>=0.12->osmnx) (23.2.0)\n",
            "Requirement already satisfied: click~=8.0 in /usr/local/lib/python3.10/dist-packages (from fiona>=1.8.19->geopandas>=0.12->osmnx) (8.1.7)\n",
            "Requirement already satisfied: click-plugins>=1.0 in /usr/local/lib/python3.10/dist-packages (from fiona>=1.8.19->geopandas>=0.12->osmnx) (1.1.1)\n",
            "Requirement already satisfied: cligj>=0.5 in /usr/local/lib/python3.10/dist-packages (from fiona>=1.8.19->geopandas>=0.12->osmnx) (0.7.2)\n",
            "Requirement already satisfied: six in /usr/local/lib/python3.10/dist-packages (from fiona>=1.8.19->geopandas>=0.12->osmnx) (1.16.0)\n",
            "Installing collected packages: osmnx\n",
            "Successfully installed osmnx-1.9.3\n"
          ]
        }
      ]
    },
    {
      "cell_type": "code",
      "source": [
        "# Download datasets\n",
        "def download_dataset(dataset_id, base_url='https://data.melbourne.vic.gov.au/api/explore/v2.1/catalog/datasets/'):\n",
        "    format = 'csv'\n",
        "    url = f'{base_url}{dataset_id}/exports/{format}'\n",
        "    params = {\n",
        "        'select': '*',\n",
        "        'limit': -1,  # all records\n",
        "        'lang': 'en',\n",
        "        'timezone': 'UTC'\n",
        "    }\n",
        "\n",
        "    with requests.get(url, params=params, stream=True) as response:\n",
        "        if response.status_code == 200:\n",
        "            total_size = int(response.headers.get('content-length', 0))\n",
        "            chunk_size = 1024  # 1KB per chunk\n",
        "            progress_bar = tqdm(total=total_size, unit='iB', unit_scale=True, desc=f\"Downloading {dataset_id}\")\n",
        "\n",
        "            content = bytearray()\n",
        "            for chunk in response.iter_content(chunk_size=chunk_size):\n",
        "                if chunk:  # filter out keep-alive new chunks\n",
        "                    content.extend(chunk)\n",
        "                    progress_bar.update(len(chunk))\n",
        "\n",
        "            progress_bar.close()\n",
        "            data = pd.read_csv(StringIO(content.decode('utf-8')), delimiter=';')\n",
        "            return data\n",
        "        else:\n",
        "            print(f'Request failed with status code {response.status_code}')\n",
        "            return None\n",
        "\n",
        "# Dataset IDs\n",
        "dataset_ids = [\n",
        "    'business-establishments-with-address-and-industry-classification'\n",
        "]\n",
        "\n",
        "datasets = {}\n",
        "for dataset_id in dataset_ids:\n",
        "    datasets[dataset_id] = download_dataset(dataset_id)\n",
        "    if datasets[dataset_id] is not None:\n",
        "        print(f\"{dataset_id} downloaded successfully.\")"
      ],
      "metadata": {
        "colab": {
          "base_uri": "https://localhost:8080/"
        },
        "id": "o8Fek8U14Bd9",
        "outputId": "4a193931-663e-4ccc-c3c2-b8e8bc684015"
      },
      "execution_count": null,
      "outputs": [
        {
          "output_type": "stream",
          "name": "stderr",
          "text": [
            "Downloading business-establishments-with-address-and-industry-classification: 64.5MiB [01:23, 774kiB/s] \n"
          ]
        },
        {
          "output_type": "stream",
          "name": "stdout",
          "text": [
            "business-establishments-with-address-and-industry-classification downloaded successfully.\n"
          ]
        }
      ]
    },
    {
      "cell_type": "code",
      "source": [
        "datasets['business-establishments-with-address-and-industry-classification'].head()"
      ],
      "metadata": {
        "colab": {
          "base_uri": "https://localhost:8080/",
          "height": 363
        },
        "id": "6ZN-HKT24Khr",
        "outputId": "e3560b1a-784b-4080-a422-a1e160a2b09d"
      },
      "execution_count": null,
      "outputs": [
        {
          "output_type": "execute_result",
          "data": {
            "text/plain": [
              "   census_year  block_id  property_id  base_property_id  clue_small_area  \\\n",
              "0         2003       105       100172            100172  Melbourne (CBD)   \n",
              "1         2003       105       103301            103301  Melbourne (CBD)   \n",
              "2         2003       105       103302            103302  Melbourne (CBD)   \n",
              "3         2003       105       103302            103302  Melbourne (CBD)   \n",
              "4         2003       105       103302            103302  Melbourne (CBD)   \n",
              "\n",
              "                          trading_name  \\\n",
              "0             Wilson Parking Australia   \n",
              "1  Melbourne International Backpackers   \n",
              "2                               Vacant   \n",
              "3                      The Garden Cafe   \n",
              "4                  Telephony Australia   \n",
              "\n",
              "                                    business_address  industry_anzsic4_code  \\\n",
              "0              24-46 A'Beckett Street MELBOURNE 3000                   9533   \n",
              "1            442-450 Elizabeth Street MELBOURNE 3000                   4400   \n",
              "2            422-440 Elizabeth Street MELBOURNE 3000                      0   \n",
              "3  Shop 3, Ground , 422-440 Elizabeth Street MELB...                   4511   \n",
              "4  Shop 5, Ground , 422-440 Elizabeth Street MELB...                   5809   \n",
              "\n",
              "        industry_anzsic4_description   longitude   latitude  \n",
              "0                   Parking Services  144.962053 -37.808573  \n",
              "1                      Accommodation  144.960868 -37.808309  \n",
              "2                       Vacant Space  144.961017 -37.808630  \n",
              "3              Cafes and Restaurants  144.961017 -37.808630  \n",
              "4  Other Telecommunications Services  144.961017 -37.808630  "
            ],
            "text/html": [
              "\n",
              "  <div id=\"df-b8c4aae0-26f2-4970-b1b6-30bbdc4be725\" class=\"colab-df-container\">\n",
              "    <div>\n",
              "<style scoped>\n",
              "    .dataframe tbody tr th:only-of-type {\n",
              "        vertical-align: middle;\n",
              "    }\n",
              "\n",
              "    .dataframe tbody tr th {\n",
              "        vertical-align: top;\n",
              "    }\n",
              "\n",
              "    .dataframe thead th {\n",
              "        text-align: right;\n",
              "    }\n",
              "</style>\n",
              "<table border=\"1\" class=\"dataframe\">\n",
              "  <thead>\n",
              "    <tr style=\"text-align: right;\">\n",
              "      <th></th>\n",
              "      <th>census_year</th>\n",
              "      <th>block_id</th>\n",
              "      <th>property_id</th>\n",
              "      <th>base_property_id</th>\n",
              "      <th>clue_small_area</th>\n",
              "      <th>trading_name</th>\n",
              "      <th>business_address</th>\n",
              "      <th>industry_anzsic4_code</th>\n",
              "      <th>industry_anzsic4_description</th>\n",
              "      <th>longitude</th>\n",
              "      <th>latitude</th>\n",
              "    </tr>\n",
              "  </thead>\n",
              "  <tbody>\n",
              "    <tr>\n",
              "      <th>0</th>\n",
              "      <td>2003</td>\n",
              "      <td>105</td>\n",
              "      <td>100172</td>\n",
              "      <td>100172</td>\n",
              "      <td>Melbourne (CBD)</td>\n",
              "      <td>Wilson Parking Australia</td>\n",
              "      <td>24-46 A'Beckett Street MELBOURNE 3000</td>\n",
              "      <td>9533</td>\n",
              "      <td>Parking Services</td>\n",
              "      <td>144.962053</td>\n",
              "      <td>-37.808573</td>\n",
              "    </tr>\n",
              "    <tr>\n",
              "      <th>1</th>\n",
              "      <td>2003</td>\n",
              "      <td>105</td>\n",
              "      <td>103301</td>\n",
              "      <td>103301</td>\n",
              "      <td>Melbourne (CBD)</td>\n",
              "      <td>Melbourne International Backpackers</td>\n",
              "      <td>442-450 Elizabeth Street MELBOURNE 3000</td>\n",
              "      <td>4400</td>\n",
              "      <td>Accommodation</td>\n",
              "      <td>144.960868</td>\n",
              "      <td>-37.808309</td>\n",
              "    </tr>\n",
              "    <tr>\n",
              "      <th>2</th>\n",
              "      <td>2003</td>\n",
              "      <td>105</td>\n",
              "      <td>103302</td>\n",
              "      <td>103302</td>\n",
              "      <td>Melbourne (CBD)</td>\n",
              "      <td>Vacant</td>\n",
              "      <td>422-440 Elizabeth Street MELBOURNE 3000</td>\n",
              "      <td>0</td>\n",
              "      <td>Vacant Space</td>\n",
              "      <td>144.961017</td>\n",
              "      <td>-37.808630</td>\n",
              "    </tr>\n",
              "    <tr>\n",
              "      <th>3</th>\n",
              "      <td>2003</td>\n",
              "      <td>105</td>\n",
              "      <td>103302</td>\n",
              "      <td>103302</td>\n",
              "      <td>Melbourne (CBD)</td>\n",
              "      <td>The Garden Cafe</td>\n",
              "      <td>Shop 3, Ground , 422-440 Elizabeth Street MELB...</td>\n",
              "      <td>4511</td>\n",
              "      <td>Cafes and Restaurants</td>\n",
              "      <td>144.961017</td>\n",
              "      <td>-37.808630</td>\n",
              "    </tr>\n",
              "    <tr>\n",
              "      <th>4</th>\n",
              "      <td>2003</td>\n",
              "      <td>105</td>\n",
              "      <td>103302</td>\n",
              "      <td>103302</td>\n",
              "      <td>Melbourne (CBD)</td>\n",
              "      <td>Telephony Australia</td>\n",
              "      <td>Shop 5, Ground , 422-440 Elizabeth Street MELB...</td>\n",
              "      <td>5809</td>\n",
              "      <td>Other Telecommunications Services</td>\n",
              "      <td>144.961017</td>\n",
              "      <td>-37.808630</td>\n",
              "    </tr>\n",
              "  </tbody>\n",
              "</table>\n",
              "</div>\n",
              "    <div class=\"colab-df-buttons\">\n",
              "\n",
              "  <div class=\"colab-df-container\">\n",
              "    <button class=\"colab-df-convert\" onclick=\"convertToInteractive('df-b8c4aae0-26f2-4970-b1b6-30bbdc4be725')\"\n",
              "            title=\"Convert this dataframe to an interactive table.\"\n",
              "            style=\"display:none;\">\n",
              "\n",
              "  <svg xmlns=\"http://www.w3.org/2000/svg\" height=\"24px\" viewBox=\"0 -960 960 960\">\n",
              "    <path d=\"M120-120v-720h720v720H120Zm60-500h600v-160H180v160Zm220 220h160v-160H400v160Zm0 220h160v-160H400v160ZM180-400h160v-160H180v160Zm440 0h160v-160H620v160ZM180-180h160v-160H180v160Zm440 0h160v-160H620v160Z\"/>\n",
              "  </svg>\n",
              "    </button>\n",
              "\n",
              "  <style>\n",
              "    .colab-df-container {\n",
              "      display:flex;\n",
              "      gap: 12px;\n",
              "    }\n",
              "\n",
              "    .colab-df-convert {\n",
              "      background-color: #E8F0FE;\n",
              "      border: none;\n",
              "      border-radius: 50%;\n",
              "      cursor: pointer;\n",
              "      display: none;\n",
              "      fill: #1967D2;\n",
              "      height: 32px;\n",
              "      padding: 0 0 0 0;\n",
              "      width: 32px;\n",
              "    }\n",
              "\n",
              "    .colab-df-convert:hover {\n",
              "      background-color: #E2EBFA;\n",
              "      box-shadow: 0px 1px 2px rgba(60, 64, 67, 0.3), 0px 1px 3px 1px rgba(60, 64, 67, 0.15);\n",
              "      fill: #174EA6;\n",
              "    }\n",
              "\n",
              "    .colab-df-buttons div {\n",
              "      margin-bottom: 4px;\n",
              "    }\n",
              "\n",
              "    [theme=dark] .colab-df-convert {\n",
              "      background-color: #3B4455;\n",
              "      fill: #D2E3FC;\n",
              "    }\n",
              "\n",
              "    [theme=dark] .colab-df-convert:hover {\n",
              "      background-color: #434B5C;\n",
              "      box-shadow: 0px 1px 3px 1px rgba(0, 0, 0, 0.15);\n",
              "      filter: drop-shadow(0px 1px 2px rgba(0, 0, 0, 0.3));\n",
              "      fill: #FFFFFF;\n",
              "    }\n",
              "  </style>\n",
              "\n",
              "    <script>\n",
              "      const buttonEl =\n",
              "        document.querySelector('#df-b8c4aae0-26f2-4970-b1b6-30bbdc4be725 button.colab-df-convert');\n",
              "      buttonEl.style.display =\n",
              "        google.colab.kernel.accessAllowed ? 'block' : 'none';\n",
              "\n",
              "      async function convertToInteractive(key) {\n",
              "        const element = document.querySelector('#df-b8c4aae0-26f2-4970-b1b6-30bbdc4be725');\n",
              "        const dataTable =\n",
              "          await google.colab.kernel.invokeFunction('convertToInteractive',\n",
              "                                                    [key], {});\n",
              "        if (!dataTable) return;\n",
              "\n",
              "        const docLinkHtml = 'Like what you see? Visit the ' +\n",
              "          '<a target=\"_blank\" href=https://colab.research.google.com/notebooks/data_table.ipynb>data table notebook</a>'\n",
              "          + ' to learn more about interactive tables.';\n",
              "        element.innerHTML = '';\n",
              "        dataTable['output_type'] = 'display_data';\n",
              "        await google.colab.output.renderOutput(dataTable, element);\n",
              "        const docLink = document.createElement('div');\n",
              "        docLink.innerHTML = docLinkHtml;\n",
              "        element.appendChild(docLink);\n",
              "      }\n",
              "    </script>\n",
              "  </div>\n",
              "\n",
              "\n",
              "<div id=\"df-7c5155c4-4439-4838-a957-2a2549444424\">\n",
              "  <button class=\"colab-df-quickchart\" onclick=\"quickchart('df-7c5155c4-4439-4838-a957-2a2549444424')\"\n",
              "            title=\"Suggest charts\"\n",
              "            style=\"display:none;\">\n",
              "\n",
              "<svg xmlns=\"http://www.w3.org/2000/svg\" height=\"24px\"viewBox=\"0 0 24 24\"\n",
              "     width=\"24px\">\n",
              "    <g>\n",
              "        <path d=\"M19 3H5c-1.1 0-2 .9-2 2v14c0 1.1.9 2 2 2h14c1.1 0 2-.9 2-2V5c0-1.1-.9-2-2-2zM9 17H7v-7h2v7zm4 0h-2V7h2v10zm4 0h-2v-4h2v4z\"/>\n",
              "    </g>\n",
              "</svg>\n",
              "  </button>\n",
              "\n",
              "<style>\n",
              "  .colab-df-quickchart {\n",
              "      --bg-color: #E8F0FE;\n",
              "      --fill-color: #1967D2;\n",
              "      --hover-bg-color: #E2EBFA;\n",
              "      --hover-fill-color: #174EA6;\n",
              "      --disabled-fill-color: #AAA;\n",
              "      --disabled-bg-color: #DDD;\n",
              "  }\n",
              "\n",
              "  [theme=dark] .colab-df-quickchart {\n",
              "      --bg-color: #3B4455;\n",
              "      --fill-color: #D2E3FC;\n",
              "      --hover-bg-color: #434B5C;\n",
              "      --hover-fill-color: #FFFFFF;\n",
              "      --disabled-bg-color: #3B4455;\n",
              "      --disabled-fill-color: #666;\n",
              "  }\n",
              "\n",
              "  .colab-df-quickchart {\n",
              "    background-color: var(--bg-color);\n",
              "    border: none;\n",
              "    border-radius: 50%;\n",
              "    cursor: pointer;\n",
              "    display: none;\n",
              "    fill: var(--fill-color);\n",
              "    height: 32px;\n",
              "    padding: 0;\n",
              "    width: 32px;\n",
              "  }\n",
              "\n",
              "  .colab-df-quickchart:hover {\n",
              "    background-color: var(--hover-bg-color);\n",
              "    box-shadow: 0 1px 2px rgba(60, 64, 67, 0.3), 0 1px 3px 1px rgba(60, 64, 67, 0.15);\n",
              "    fill: var(--button-hover-fill-color);\n",
              "  }\n",
              "\n",
              "  .colab-df-quickchart-complete:disabled,\n",
              "  .colab-df-quickchart-complete:disabled:hover {\n",
              "    background-color: var(--disabled-bg-color);\n",
              "    fill: var(--disabled-fill-color);\n",
              "    box-shadow: none;\n",
              "  }\n",
              "\n",
              "  .colab-df-spinner {\n",
              "    border: 2px solid var(--fill-color);\n",
              "    border-color: transparent;\n",
              "    border-bottom-color: var(--fill-color);\n",
              "    animation:\n",
              "      spin 1s steps(1) infinite;\n",
              "  }\n",
              "\n",
              "  @keyframes spin {\n",
              "    0% {\n",
              "      border-color: transparent;\n",
              "      border-bottom-color: var(--fill-color);\n",
              "      border-left-color: var(--fill-color);\n",
              "    }\n",
              "    20% {\n",
              "      border-color: transparent;\n",
              "      border-left-color: var(--fill-color);\n",
              "      border-top-color: var(--fill-color);\n",
              "    }\n",
              "    30% {\n",
              "      border-color: transparent;\n",
              "      border-left-color: var(--fill-color);\n",
              "      border-top-color: var(--fill-color);\n",
              "      border-right-color: var(--fill-color);\n",
              "    }\n",
              "    40% {\n",
              "      border-color: transparent;\n",
              "      border-right-color: var(--fill-color);\n",
              "      border-top-color: var(--fill-color);\n",
              "    }\n",
              "    60% {\n",
              "      border-color: transparent;\n",
              "      border-right-color: var(--fill-color);\n",
              "    }\n",
              "    80% {\n",
              "      border-color: transparent;\n",
              "      border-right-color: var(--fill-color);\n",
              "      border-bottom-color: var(--fill-color);\n",
              "    }\n",
              "    90% {\n",
              "      border-color: transparent;\n",
              "      border-bottom-color: var(--fill-color);\n",
              "    }\n",
              "  }\n",
              "</style>\n",
              "\n",
              "  <script>\n",
              "    async function quickchart(key) {\n",
              "      const quickchartButtonEl =\n",
              "        document.querySelector('#' + key + ' button');\n",
              "      quickchartButtonEl.disabled = true;  // To prevent multiple clicks.\n",
              "      quickchartButtonEl.classList.add('colab-df-spinner');\n",
              "      try {\n",
              "        const charts = await google.colab.kernel.invokeFunction(\n",
              "            'suggestCharts', [key], {});\n",
              "      } catch (error) {\n",
              "        console.error('Error during call to suggestCharts:', error);\n",
              "      }\n",
              "      quickchartButtonEl.classList.remove('colab-df-spinner');\n",
              "      quickchartButtonEl.classList.add('colab-df-quickchart-complete');\n",
              "    }\n",
              "    (() => {\n",
              "      let quickchartButtonEl =\n",
              "        document.querySelector('#df-7c5155c4-4439-4838-a957-2a2549444424 button');\n",
              "      quickchartButtonEl.style.display =\n",
              "        google.colab.kernel.accessAllowed ? 'block' : 'none';\n",
              "    })();\n",
              "  </script>\n",
              "</div>\n",
              "\n",
              "    </div>\n",
              "  </div>\n"
            ],
            "application/vnd.google.colaboratory.intrinsic+json": {
              "type": "dataframe",
              "summary": "{\n  \"name\": \"datasets['business-establishments-with-address-and-industry-classification']\",\n  \"rows\": 5,\n  \"fields\": [\n    {\n      \"column\": \"census_year\",\n      \"properties\": {\n        \"dtype\": \"number\",\n        \"std\": 0,\n        \"min\": 2003,\n        \"max\": 2003,\n        \"num_unique_values\": 1,\n        \"samples\": [\n          2003\n        ],\n        \"semantic_type\": \"\",\n        \"description\": \"\"\n      }\n    },\n    {\n      \"column\": \"block_id\",\n      \"properties\": {\n        \"dtype\": \"number\",\n        \"std\": 0,\n        \"min\": 105,\n        \"max\": 105,\n        \"num_unique_values\": 1,\n        \"samples\": [\n          105\n        ],\n        \"semantic_type\": \"\",\n        \"description\": \"\"\n      }\n    },\n    {\n      \"column\": \"property_id\",\n      \"properties\": {\n        \"dtype\": \"number\",\n        \"std\": 1399,\n        \"min\": 100172,\n        \"max\": 103302,\n        \"num_unique_values\": 3,\n        \"samples\": [\n          100172\n        ],\n        \"semantic_type\": \"\",\n        \"description\": \"\"\n      }\n    },\n    {\n      \"column\": \"base_property_id\",\n      \"properties\": {\n        \"dtype\": \"number\",\n        \"std\": 1399,\n        \"min\": 100172,\n        \"max\": 103302,\n        \"num_unique_values\": 3,\n        \"samples\": [\n          100172\n        ],\n        \"semantic_type\": \"\",\n        \"description\": \"\"\n      }\n    },\n    {\n      \"column\": \"clue_small_area\",\n      \"properties\": {\n        \"dtype\": \"category\",\n        \"num_unique_values\": 1,\n        \"samples\": [\n          \"Melbourne (CBD)\"\n        ],\n        \"semantic_type\": \"\",\n        \"description\": \"\"\n      }\n    },\n    {\n      \"column\": \"trading_name\",\n      \"properties\": {\n        \"dtype\": \"string\",\n        \"num_unique_values\": 5,\n        \"samples\": [\n          \"Melbourne International Backpackers\"\n        ],\n        \"semantic_type\": \"\",\n        \"description\": \"\"\n      }\n    },\n    {\n      \"column\": \"business_address\",\n      \"properties\": {\n        \"dtype\": \"string\",\n        \"num_unique_values\": 5,\n        \"samples\": [\n          \"442-450 Elizabeth Street MELBOURNE 3000\"\n        ],\n        \"semantic_type\": \"\",\n        \"description\": \"\"\n      }\n    },\n    {\n      \"column\": \"industry_anzsic4_code\",\n      \"properties\": {\n        \"dtype\": \"number\",\n        \"std\": 3416,\n        \"min\": 0,\n        \"max\": 9533,\n        \"num_unique_values\": 5,\n        \"samples\": [\n          4400\n        ],\n        \"semantic_type\": \"\",\n        \"description\": \"\"\n      }\n    },\n    {\n      \"column\": \"industry_anzsic4_description\",\n      \"properties\": {\n        \"dtype\": \"string\",\n        \"num_unique_values\": 5,\n        \"samples\": [\n          \"Accommodation\"\n        ],\n        \"semantic_type\": \"\",\n        \"description\": \"\"\n      }\n    },\n    {\n      \"column\": \"longitude\",\n      \"properties\": {\n        \"dtype\": \"number\",\n        \"std\": 0.000484305276627208,\n        \"min\": 144.96086818659967,\n        \"max\": 144.9620530843078,\n        \"num_unique_values\": 3,\n        \"samples\": [\n          144.9620530843078\n        ],\n        \"semantic_type\": \"\",\n        \"description\": \"\"\n      }\n    },\n    {\n      \"column\": \"latitude\",\n      \"properties\": {\n        \"dtype\": \"number\",\n        \"std\": 0.0001391990346787463,\n        \"min\": -37.80863000600292,\n        \"max\": -37.808309445012966,\n        \"num_unique_values\": 3,\n        \"samples\": [\n          -37.80857321028935\n        ],\n        \"semantic_type\": \"\",\n        \"description\": \"\"\n      }\n    }\n  ]\n}"
            }
          },
          "metadata": {},
          "execution_count": 9
        }
      ]
    },
    {
      "cell_type": "code",
      "source": [
        "shape_of_dataset = datasets['business-establishments-with-address-and-industry-classification'].shape\n",
        "print(shape_of_dataset)"
      ],
      "metadata": {
        "colab": {
          "base_uri": "https://localhost:8080/"
        },
        "id": "xQuZb9X_7CHU",
        "outputId": "ad648215-9360-4d9d-9856-28f31ca79298"
      },
      "execution_count": null,
      "outputs": [
        {
          "output_type": "stream",
          "name": "stdout",
          "text": [
            "(374210, 11)\n"
          ]
        }
      ]
    },
    {
      "cell_type": "code",
      "source": [
        "# Save\n",
        "base_path = '/content/drive/My Drive/sit323'\n",
        "\n",
        "for dataset_id, df in datasets.items():\n",
        "    if df is not None:\n",
        "        filename = f\"{base_path}{dataset_id}.csv\"\n",
        "        df.to_csv(filename, index=False)\n",
        "        print(f\"Saved {filename} to Google Drive.\")"
      ],
      "metadata": {
        "colab": {
          "base_uri": "https://localhost:8080/"
        },
        "id": "uff0bQR-4W7Z",
        "outputId": "f823103a-d5d6-4930-c446-02517650a6ff"
      },
      "execution_count": null,
      "outputs": [
        {
          "output_type": "stream",
          "name": "stdout",
          "text": [
            "Saved /content/drive/My Drive/sit323business-establishments-with-address-and-industry-classification.csv to Google Drive.\n"
          ]
        }
      ]
    }
  ]
}